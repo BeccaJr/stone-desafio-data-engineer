{
 "cells": [
  {
   "cell_type": "markdown",
   "id": "6f1a16bd-1282-4d2a-9a63-7bae225f47bf",
   "metadata": {},
   "source": [
    "# Objetivo:\n",
    "\n",
    "- Recuperar os dados de Empresas e Sócios do site da Receita Federal de forma dinâmica;\n",
    "- Selecionar Dinâmicamente o diretório mais recente;\n",
    "- Escolher qual o arquivo que quer baixar ou baixar todos os arquivos;\n",
    "- Salvar o .zip na Camada Bronze;\n",
    "- Extrair o arquivo de dentro do .zip"
   ]
  },
  {
   "cell_type": "markdown",
   "id": "89b84b4a-2767-473b-b70a-7c720c5aef79",
   "metadata": {
    "jp-MarkdownHeadingCollapsed": true
   },
   "source": [
    "### Import das Bibliotecas"
   ]
  },
  {
   "cell_type": "code",
   "execution_count": 1,
   "id": "9d44aad1-5a3f-438f-99ec-9f108dcdc71b",
   "metadata": {},
   "outputs": [],
   "source": [
    "import requests\n",
    "from bs4 import BeautifulSoup\n",
    "import os\n",
    "import zipfile"
   ]
  },
  {
   "cell_type": "markdown",
   "id": "af2f3166-b160-4c3f-a07e-247f6a1c9872",
   "metadata": {
    "jp-MarkdownHeadingCollapsed": true
   },
   "source": [
    "### Definição do Diretório Bronze"
   ]
  },
  {
   "cell_type": "code",
   "execution_count": 2,
   "id": "7fd2e175-d6af-45a3-9c62-9607d6902564",
   "metadata": {},
   "outputs": [],
   "source": [
    "# Diretório local onde salvar os arquivos\n",
    "BRONZE_DIR = \"../data/bronze\"\n",
    "os.makedirs(BRONZE_DIR, exist_ok=True)"
   ]
  },
  {
   "cell_type": "markdown",
   "id": "583e5222-5c80-47b6-8ffe-960d6860d8de",
   "metadata": {
    "jp-MarkdownHeadingCollapsed": true
   },
   "source": [
    "### Site da Receita Federal"
   ]
  },
  {
   "cell_type": "markdown",
   "id": "1638b1a6-3a0a-4cac-8e37-4c03f31f47ca",
   "metadata": {
    "jp-MarkdownHeadingCollapsed": true
   },
   "source": [
    "#### Acessar o Site"
   ]
  },
  {
   "cell_type": "code",
   "execution_count": 22,
   "id": "4d633dc4-7b59-4b66-b6cf-b6bd7c1969ac",
   "metadata": {},
   "outputs": [],
   "source": [
    "# URL base\n",
    "BASE_URL = \"https://arquivos.receitafederal.gov.br/dados/cnpj/dados_abertos_cnpj/\""
   ]
  },
  {
   "cell_type": "code",
   "execution_count": 23,
   "id": "29e99bfd-fe0b-4b1d-b691-a39144045eb7",
   "metadata": {},
   "outputs": [],
   "source": [
    "# Buscar página inicial\n",
    "resp = requests.get(BASE_URL)\n",
    "resp.raise_for_status()\n",
    "soup = BeautifulSoup(resp.text, \"html.parser\")"
   ]
  },
  {
   "cell_type": "markdown",
   "id": "b2d4f2d1-0cfd-4bbc-a88f-56701d98741b",
   "metadata": {
    "jp-MarkdownHeadingCollapsed": true
   },
   "source": [
    "#### Navegar no Site"
   ]
  },
  {
   "cell_type": "code",
   "execution_count": 24,
   "id": "00635067-2115-462d-a153-cc025d12eafb",
   "metadata": {},
   "outputs": [],
   "source": [
    "# Pegar todos os diretórios\n",
    "dirs = [a[\"href\"] for a in soup.find_all(\"a\", href=True) if a[\"href\"].endswith(\"/\") and a[\"href\"][0].isdigit()]"
   ]
  },
  {
   "cell_type": "code",
   "execution_count": 25,
   "id": "761e6b36-efc4-4d91-b2d3-ab847067183d",
   "metadata": {},
   "outputs": [
    {
     "name": "stdout",
     "output_type": "stream",
     "text": [
      "Diretório mais recente encontrado: 2025-08/\n"
     ]
    }
   ],
   "source": [
    "# Ordenar diretórios por nome (o mais recente é o último)\n",
    "dirs.sort()\n",
    "latest_dir = dirs[-1]\n",
    "print(f\"Diretório mais recente encontrado: {latest_dir}\")"
   ]
  },
  {
   "cell_type": "code",
   "execution_count": 29,
   "id": "59270c82-88a6-4df4-bd45-71d3cecf8c06",
   "metadata": {},
   "outputs": [],
   "source": [
    "# Acessar a pasta mais recente\n",
    "resp_latest = requests.get(BASE_URL + latest_dir)\n",
    "resp_latest.raise_for_status()\n",
    "soup_latest = BeautifulSoup(resp_latest.text, \"html.parser\")"
   ]
  },
  {
   "cell_type": "code",
   "execution_count": 32,
   "id": "d16e3c2f-ac7b-4533-8817-bb0de84d630f",
   "metadata": {},
   "outputs": [
    {
     "name": "stdout",
     "output_type": "stream",
     "text": [
      "Arquivos Empresas encontrados: ['Empresas0.zip', 'Empresas1.zip', 'Empresas2.zip', 'Empresas3.zip', 'Empresas4.zip', 'Empresas5.zip', 'Empresas6.zip', 'Empresas7.zip', 'Empresas8.zip', 'Empresas9.zip']\n",
      "Arquivo Empresas selecionado: Empresas0.zip\n",
      "Arquivos Socios encontrados: ['Socios0.zip', 'Socios1.zip', 'Socios2.zip', 'Socios3.zip', 'Socios4.zip', 'Socios5.zip', 'Socios6.zip', 'Socios7.zip', 'Socios8.zip', 'Socios9.zip']\n",
      "Arquivo Socios selecionado: Socios0.zip\n"
     ]
    }
   ],
   "source": [
    "# Procurar arquivos Empresas.zip e Socios.zip\n",
    "links = [a[\"href\"] for a in soup_latest.find_all(\"a\", href=True)]\n",
    "\n",
    "# Recupera todos os arquivos de Empresas e Socios\n",
    "empresas_files = [l for l in links if \"Empresas\" in l and l.endswith(\".zip\")]\n",
    "socios_files = [l for l in links if \"Socios\" in l and l.endswith(\".zip\")]\n",
    "\n",
    "# Pegar o primeiro arquivo (ou o último, dependendo da sua preferência)\n",
    "empresas_file = empresas_files[0] # ou empresas_files[-1] para o último\n",
    "socios_file = socios_files[0]  # ou socios_files[-1]\n",
    "\n",
    "print(f\"Arquivos Empresas encontrados: {empresas_files}\")\n",
    "print(f\"Arquivo Empresas selecionado: {empresas_file}\")\n",
    "print(f\"Arquivos Socios encontrados: {socios_files}\")\n",
    "print(f\"Arquivo Socios selecionado: {socios_file}\")"
   ]
  },
  {
   "cell_type": "markdown",
   "id": "061b85a7-8d9a-40e4-ab0d-be7b138ca920",
   "metadata": {
    "jp-MarkdownHeadingCollapsed": true
   },
   "source": [
    "#### Baixar e Extrair Arquivos"
   ]
  },
  {
   "cell_type": "code",
   "execution_count": 33,
   "id": "dbaec9ad-3845-4691-8b3d-8f85255ae6ea",
   "metadata": {},
   "outputs": [],
   "source": [
    "# Função para baixar arquivo\n",
    "def download_file(file_url, folder):\n",
    "    filename = file_url.split(\"/\")[-1]\n",
    "    filepath = os.path.join(folder, filename)\n",
    "    print(f\"Baixando {filename}...\")\n",
    "    r = requests.get(BASE_URL + latest_dir + file_url, stream=True)\n",
    "    r.raise_for_status()\n",
    "    with open(filepath, \"wb\") as f:\n",
    "        for chunk in r.iter_content(chunk_size=8192):\n",
    "            f.write(chunk)\n",
    "    print(f\"Salvo em {filepath}\")\n",
    "    return filepath"
   ]
  },
  {
   "cell_type": "code",
   "execution_count": 34,
   "id": "86ea8924-8570-4107-a2f0-2c201ad74f42",
   "metadata": {},
   "outputs": [],
   "source": [
    "# Função para extrair .zip\n",
    "def extract_zip(zip_path, extract_to):\n",
    "    print(f\"Extraindo {zip_path}...\")\n",
    "    with zipfile.ZipFile(zip_path, \"r\") as zip_ref:\n",
    "        zip_ref.extractall(extract_to)\n",
    "    print(f\"Arquivos extraídos em {extract_to}\")"
   ]
  },
  {
   "cell_type": "code",
   "execution_count": 35,
   "id": "49e9ca63-143d-45b6-abe6-5576c2dc961d",
   "metadata": {},
   "outputs": [
    {
     "name": "stdout",
     "output_type": "stream",
     "text": [
      "Baixando Empresas0.zip...\n",
      "Salvo em ../data/bronze/Empresas0.zip\n",
      "Extraindo ../data/bronze/Empresas0.zip...\n",
      "Arquivos extraídos em ../data/bronze\n",
      "Baixando Socios0.zip...\n",
      "Salvo em ../data/bronze/Socios0.zip\n",
      "Extraindo ../data/bronze/Socios0.zip...\n",
      "Arquivos extraídos em ../data/bronze\n"
     ]
    }
   ],
   "source": [
    "# Baixar e descompactar os arquivos\n",
    "for file in [empresas_file, socios_file]: # Caso queira baixar todos os arquivos trocar por empresas_files e socios_files\n",
    "    zip_path = download_file(file, BRONZE_DIR)\n",
    "    extract_zip(zip_path, BRONZE_DIR)"
   ]
  }
 ],
 "metadata": {
  "kernelspec": {
   "display_name": "Python 3 (ipykernel)",
   "language": "python",
   "name": "python3"
  },
  "language_info": {
   "codemirror_mode": {
    "name": "ipython",
    "version": 3
   },
   "file_extension": ".py",
   "mimetype": "text/x-python",
   "name": "python",
   "nbconvert_exporter": "python",
   "pygments_lexer": "ipython3",
   "version": "3.12.11"
  }
 },
 "nbformat": 4,
 "nbformat_minor": 5
}
