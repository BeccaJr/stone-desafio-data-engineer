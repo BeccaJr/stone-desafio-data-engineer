{
 "cells": [
  {
   "cell_type": "markdown",
   "id": "d69974fa-040c-4edf-b766-c50dd02aa496",
   "metadata": {},
   "source": [
    "# Objetivo:\n",
    "\n",
    "- Carregar os dados da camada Silver (Empresas e Sócios), com o Polars (execução mais rápida do que o Pandas);\n",
    "- Aplicar as regras de negócio nas tabelas (Quantidade de sócios, Sócios Estrangeiros, doc_alvo);\n",
    "- Salva o resultado na Camada Gold."
   ]
  },
  {
   "cell_type": "markdown",
   "id": "7df6b972-d7d5-4da3-9f2b-ca82996d8e9d",
   "metadata": {},
   "source": [
    "### Import das Bibliotecas"
   ]
  },
  {
   "cell_type": "code",
   "execution_count": null,
   "id": "8159c586-85bd-4593-b067-f47762050a49",
   "metadata": {},
   "outputs": [],
   "source": [
    "import polars as pl\n",
    "import os"
   ]
  },
  {
   "cell_type": "markdown",
   "id": "8ad3fd27-b54e-4aad-9b2b-44c529544cd7",
   "metadata": {},
   "source": [
    "### Definição dos Diretórios"
   ]
  },
  {
   "cell_type": "code",
   "execution_count": null,
   "id": "a9cc106a-3346-46ef-94e6-286681f81420",
   "metadata": {},
   "outputs": [],
   "source": [
    "DATA_DIR = '../data'\n",
    "\n",
    "SILVER_DIR = os.path.join(DATA_DIR, 'silver')\n",
    "GOLD_DIR = os.path.join(DATA_DIR, 'gold')\n",
    "\n",
    "# Garante que os diretórios existam\n",
    "os.makedirs(SILVER_DIR, exist_ok=True)\n",
    "os.makedirs(GOLD_DIR, exist_ok=True)"
   ]
  },
  {
   "cell_type": "markdown",
   "id": "6c8add98-84f2-45fc-80a2-512fdfcdb0a8",
   "metadata": {},
   "source": [
    "### Definição dos nomes dos Arquivos na camada Silver Dinâmico"
   ]
  },
  {
   "cell_type": "code",
   "execution_count": null,
   "id": "87473729-e61b-4827-b711-d150be7371a5",
   "metadata": {},
   "outputs": [],
   "source": [
    "EMPRESA_FILE_SILVER = None\n",
    "SOCIO_FILE_SILVER = None\n",
    "\n",
    "# Lista todos os arquivos no diretório silver\n",
    "\n",
    "try:\n",
    "    silver_files = os.listdir(SILVER_DIR)\n",
    "\n",
    "    # Procura pelos arquivos de Empresa e Socio com base no prefixo\n",
    "    for filename in silver_files:\n",
    "        if filename.startswith('empresas'):\n",
    "            EMPRESA_FILE_SILVER = os.path.join(SILVER_DIR, filename)\n",
    "        elif filename.startswith('socios'):\n",
    "            SOCIO_FILE_SILVER = os.path.join(SILVER_DIR, filename)\n",
    "\n",
    "    # Verifica se os arquivos foram encontrados\n",
    "    if EMPRESA_FILE_SILVER is None:\n",
    "        raise FileNotFoundError(f\"Nenhum arquivo começando com 'empresas' encontrado em {SILVER_DIR}. Verifique o nome do arquivo.\")\n",
    "    if SOCIO_FILE_SILVER is None:\n",
    "        raise FileNotFoundError(f\"Nenhum arquivo começando com 'socios' encontrado em {SILVER_DIR}. Verifique o nome do arquivo.\")\n",
    "\n",
    "except FileNotFoundError as e:\n",
    "    print(f\"ERRO: {e}\")\n",
    "    exit()\n",
    "except Exception as e:\n",
    "    print(f\"Ocorreu um erro ao listar arquivos no diretório silver: {e}\")\n",
    "    exit()"
   ]
  },
  {
   "cell_type": "markdown",
   "id": "65bcade7-fab9-4659-898f-ab9cd7b3dd36",
   "metadata": {},
   "source": [
    "#### Nome do Arquivo na Camada Gold"
   ]
  },
  {
   "cell_type": "code",
   "execution_count": null,
   "id": "2235e09f-3570-476c-b029-442ca3d84de8",
   "metadata": {},
   "outputs": [],
   "source": [
    "FILE_GOLD = os.path.join(GOLD_DIR, 'gold.parquet')"
   ]
  },
  {
   "cell_type": "markdown",
   "id": "d691b550-956c-4e5b-a4b0-158353db53eb",
   "metadata": {},
   "source": [
    "### Carregar dados da Camada Silver"
   ]
  },
  {
   "cell_type": "markdown",
   "id": "17a94297-2be7-4b00-bc50-c0805773a7e0",
   "metadata": {},
   "source": [
    "#### Leitura Tabela Empresas"
   ]
  },
  {
   "cell_type": "code",
   "execution_count": null,
   "id": "804524e5-4f1e-48df-aa8f-59e8c84d1c50",
   "metadata": {},
   "outputs": [],
   "source": [
    "# Ler tabela Empresas\n",
    "\n",
    "df_empresas = pl.read_parquet(EMPRESA_FILE_SILVER)\n",
    "df_empresas.schema"
   ]
  },
  {
   "cell_type": "markdown",
   "id": "364c56d1-95cf-4e2f-9c3b-87f1dce259fd",
   "metadata": {},
   "source": [
    "#### Leitura Tabela Sócios"
   ]
  },
  {
   "cell_type": "code",
   "execution_count": null,
   "id": "f0999470-54c2-4783-a8ac-a404b6378d74",
   "metadata": {},
   "outputs": [],
   "source": [
    "# Ler tabela Sócios\n",
    "\n",
    "df_socios = pl.read_parquet(SOCIO_FILE_SILVER)\n",
    "df_socios.schema"
   ]
  },
  {
   "cell_type": "markdown",
   "id": "58907249-6777-4735-b6c8-7f52355ee3b6",
   "metadata": {},
   "source": [
    "### Tratamentos"
   ]
  },
  {
   "cell_type": "markdown",
   "id": "bff73433-7fb7-4648-91c7-228391e135b3",
   "metadata": {},
   "source": [
    "#### Aplicar regra de negócio nos Sócios"
   ]
  },
  {
   "cell_type": "code",
   "execution_count": null,
   "id": "a2f49c0c-54df-44b1-a9f4-9b1b2d425ec5",
   "metadata": {},
   "outputs": [],
   "source": [
    "socios_aggs = (\n",
    "    df_socios\n",
    "    .group_by(\"cnpj\")\n",
    "    .agg([\n",
    "        pl.count(\"nome_socio\").alias(\"qtde_socios\"),\n",
    "        pl.col(\"documento_socio\")\n",
    "          .cast(pl.Utf8)\n",
    "          .str.starts_with(\"999\")\n",
    "          .max()\n",
    "          .alias(\"flag_socio_estrangeiro\")\n",
    "    ])\n",
    ")"
   ]
  },
  {
   "cell_type": "markdown",
   "id": "86860269-8e7a-4564-a9af-c194ae8c9d14",
   "metadata": {},
   "source": [
    "#### Juntar Empresas com Sócios"
   ]
  },
  {
   "cell_type": "code",
   "execution_count": null,
   "id": "080384da-9ff9-4133-bef0-ef74706745b4",
   "metadata": {},
   "outputs": [],
   "source": [
    "df_gold = (\n",
    "    df_empresas\n",
    "    .join(socios_aggs, on=\"cnpj\", how=\"left\")\n",
    "    .with_columns([\n",
    "        ((pl.col(\"cod_porte\") == \"03\") & (pl.col(\"qtde_socios\") > 1)).alias(\"doc_alvo\")\n",
    "    ])\n",
    ")"
   ]
  },
  {
   "cell_type": "markdown",
   "id": "297f44ff-9ed0-49e8-9060-b5517c4f0fde",
   "metadata": {},
   "source": [
    "### Salvar na Camada Gold"
   ]
  },
  {
   "cell_type": "code",
   "execution_count": null,
   "id": "a1cef608-3533-4c4b-bb09-1471b5c43b45",
   "metadata": {},
   "outputs": [],
   "source": [
    "df_gold.write_parquet(FILE_GOLD)\n",
    "\n",
    "print(\"Camada Gold gerada com sucesso:\", df_gold.shape)\n",
    "df_gold.head(50)"
   ]
  }
 ],
 "metadata": {
  "kernelspec": {
   "display_name": "Python 3 (ipykernel)",
   "language": "python",
   "name": "python3"
  },
  "language_info": {
   "codemirror_mode": {
    "name": "ipython",
    "version": 3
   },
   "file_extension": ".py",
   "mimetype": "text/x-python",
   "name": "python",
   "nbconvert_exporter": "python",
   "pygments_lexer": "ipython3",
   "version": "3.12.11"
  }
 },
 "nbformat": 4,
 "nbformat_minor": 5
}
