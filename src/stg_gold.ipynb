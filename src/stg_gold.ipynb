{
 "cells": [
  {
   "cell_type": "markdown",
   "id": "d69974fa-040c-4edf-b766-c50dd02aa496",
   "metadata": {},
   "source": [
    "# Objetivo:\n",
    "\n",
    "- Carregar os dados do banco das tabelas 'stg_socios_silver' e 'stg_empresas_silver', com o Polars;\n",
    "- Aplicar as regras de negócio nas tabelas (Quantidade de sócios, Sócios Estrangeiros, doc_alvo);\n",
    "- Carrega os dados no Postgres na tabela 'prd_empresas_socios_gold'."
   ]
  },
  {
   "cell_type": "markdown",
   "id": "7df6b972-d7d5-4da3-9f2b-ca82996d8e9d",
   "metadata": {},
   "source": [
    "### Import das Bibliotecas"
   ]
  },
  {
   "cell_type": "code",
   "execution_count": null,
   "id": "8159c586-85bd-4593-b067-f47762050a49",
   "metadata": {},
   "outputs": [],
   "source": [
    "import polars as pl\n",
    "import os\n",
    "import psycopg2\n",
    "import gc\n",
    "from sqlalchemy import create_engine\n",
    "from dotenv import load_dotenv\n",
    "from psycopg2 import sql\n",
    "from io import StringIO"
   ]
  },
  {
   "cell_type": "markdown",
   "id": "8ad3fd27-b54e-4aad-9b2b-44c529544cd7",
   "metadata": {},
   "source": [
    "### Definição dos Diretórios"
   ]
  },
  {
   "cell_type": "code",
   "execution_count": null,
   "id": "a9cc106a-3346-46ef-94e6-286681f81420",
   "metadata": {},
   "outputs": [],
   "source": [
    "DATA_DIR = '../data'\n",
    "\n",
    "GOLD_DIR = os.path.join(DATA_DIR, 'gold')\n",
    "\n",
    "# Garante que os diretórios existam\n",
    "os.makedirs(GOLD_DIR, exist_ok=True)"
   ]
  },
  {
   "cell_type": "markdown",
   "id": "164eee13-d259-42c3-8408-3950f3c8b6c3",
   "metadata": {},
   "source": [
    "### Ler as tabelas no Postgres"
   ]
  },
  {
   "cell_type": "code",
   "execution_count": null,
   "id": "83ab8a89-cb8b-4b84-a934-63515485f7fb",
   "metadata": {},
   "outputs": [],
   "source": [
    "# Carrega variáveis de ambiente (.env)\n",
    "load_dotenv(dotenv_path=\"../.env\")\n",
    "\n",
    "DB_USER = os.getenv(\"DB_USER\")\n",
    "DB_PASS = os.getenv(\"DB_PASSWORD\")\n",
    "DB_NAME = os.getenv(\"DB_NAME\")\n",
    "DB_HOST = os.getenv(\"DB_HOST\")\n",
    "DB_PORT = os.getenv(\"DB_PORT\")"
   ]
  },
  {
   "cell_type": "code",
   "execution_count": null,
   "id": "abccc7e3-b311-46da-af41-45f247edb355",
   "metadata": {},
   "outputs": [],
   "source": [
    "# Conexão com o PostgreSQL\n",
    "conn = psycopg2.connect(\n",
    "    dbname=DB_NAME,\n",
    "    user=DB_USER,\n",
    "    password=DB_PASS,\n",
    "    host=DB_HOST,\n",
    "    port=DB_PORT\n",
    ")"
   ]
  },
  {
   "cell_type": "markdown",
   "id": "21188664-28e4-44d0-87a9-e0b15b21fbe1",
   "metadata": {},
   "source": [
    "### Tabela Empresas"
   ]
  },
  {
   "cell_type": "markdown",
   "id": "ce52089d-bb0b-417d-8ca4-222d1330c375",
   "metadata": {},
   "source": [
    "#### Leitura da Raw e Tratamento dos Dados"
   ]
  },
  {
   "cell_type": "code",
   "execution_count": null,
   "id": "40ee3f4b-b1c8-42ed-93d7-3cf76d6e0b78",
   "metadata": {},
   "outputs": [],
   "source": [
    "# Ler dados em chunks\n",
    "chunk_size = 500_000  # ajuste conforme memória disponível\n",
    "first_chunk = True\n",
    "\n",
    "# Inicializa um DataFrame vazio\n",
    "chunks = []\n",
    "\n",
    "with conn.cursor(name=\"server_side_cursor\") as cur:\n",
    "    cur.itersize = chunk_size\n",
    "    cur.execute(\"SELECT * FROM stg_empresas_silver;\")\n",
    "    \n",
    "    for rows in iter(lambda: cur.fetchmany(chunk_size), []):\n",
    "        df_chunk = pl.DataFrame(\n",
    "            rows,\n",
    "            schema=[desc[0] for desc in cur.description],\n",
    "            orient=\"row\"\n",
    "        )\n",
    "        chunks.append(df_chunk)\n",
    "\n",
    "# Concatena todos os chunks de uma vez\n",
    "df_empresas = pl.concat(chunks, rechunk=True)\n",
    "print(df_empresas.shape)"
   ]
  },
  {
   "cell_type": "markdown",
   "id": "d80eb3d4-e217-4814-b2e0-4fedde88846c",
   "metadata": {},
   "source": [
    "### Tabela Sócios"
   ]
  },
  {
   "cell_type": "markdown",
   "id": "9bb3c432-41a7-41d4-8e99-fa172a43100b",
   "metadata": {},
   "source": [
    "#### Leitura Raw e Tratamento de Dados"
   ]
  },
  {
   "cell_type": "code",
   "execution_count": null,
   "id": "e575c0fe-5860-4402-866c-81d3fc90c9a7",
   "metadata": {},
   "outputs": [],
   "source": [
    "# Ler dados em chunks\n",
    "chunk_size = 500_000  # ajuste conforme memória disponível\n",
    "first_chunk = True\n",
    "\n",
    "# Inicializa um DataFrame vazio\n",
    "chunks = []\n",
    "\n",
    "with conn.cursor(name=\"server_side_cursor\") as cur:\n",
    "    cur.itersize = chunk_size\n",
    "    cur.execute(\"SELECT * FROM stg_socios_silver;\")\n",
    "    \n",
    "    for rows in iter(lambda: cur.fetchmany(chunk_size), []):\n",
    "        df_chunk = pl.DataFrame(\n",
    "            rows,\n",
    "            schema=[desc[0] for desc in cur.description],\n",
    "            orient=\"row\"\n",
    "        )\n",
    "        chunks.append(df_chunk)\n",
    "\n",
    "# Concatena todos os chunks de uma vez\n",
    "df_socios = pl.concat(chunks, rechunk=True)\n",
    "print(df_socios.shape)"
   ]
  },
  {
   "cell_type": "markdown",
   "id": "58907249-6777-4735-b6c8-7f52355ee3b6",
   "metadata": {},
   "source": [
    "### Tratamentos"
   ]
  },
  {
   "cell_type": "markdown",
   "id": "bff73433-7fb7-4648-91c7-228391e135b3",
   "metadata": {},
   "source": [
    "#### Aplicar regra de negócio nos Sócios"
   ]
  },
  {
   "cell_type": "code",
   "execution_count": null,
   "id": "a2f49c0c-54df-44b1-a9f4-9b1b2d425ec5",
   "metadata": {},
   "outputs": [],
   "source": [
    "socios_aggs = (\n",
    "    df_socios\n",
    "    .group_by(\"cnpj\")\n",
    "    .agg([\n",
    "        pl.count(\"nome_socio\").alias(\"qtde_socios\"),\n",
    "        pl.col(\"documento_socio\")\n",
    "          .cast(pl.Utf8)\n",
    "          .str.starts_with(\"999\")\n",
    "          .max()\n",
    "          .alias(\"flag_socio_estrangeiro\")\n",
    "    ])\n",
    ")\n",
    "\n",
    "print(socios_aggs.shape)\n",
    "\n",
    "# --- LIBERAR MEMÓRIA ---\n",
    "del df_socios\n",
    "gc.collect()"
   ]
  },
  {
   "cell_type": "markdown",
   "id": "86860269-8e7a-4564-a9af-c194ae8c9d14",
   "metadata": {},
   "source": [
    "#### Juntar Empresas com Sócios"
   ]
  },
  {
   "cell_type": "code",
   "execution_count": null,
   "id": "080384da-9ff9-4133-bef0-ef74706745b4",
   "metadata": {},
   "outputs": [],
   "source": [
    "df_gold = (\n",
    "    df_empresas\n",
    "    .join(socios_aggs, on=\"cnpj\", how=\"left\")\n",
    "    .with_columns([\n",
    "        ((pl.col(\"cod_porte\") == 3) & (pl.col(\"qtde_socios\") > 1)).alias(\"doc_alvo\")\n",
    "    ])\n",
    ")\n",
    "\n",
    "print(df_gold.shape)\n",
    "\n",
    "# --- LIBERAR MEMÓRIA ---\n",
    "del df_empresas\n",
    "del socios_aggs\n",
    "gc.collect()"
   ]
  },
  {
   "cell_type": "markdown",
   "id": "297f44ff-9ed0-49e8-9060-b5517c4f0fde",
   "metadata": {},
   "source": [
    "### Salvar na Camada Gold"
   ]
  },
  {
   "cell_type": "code",
   "execution_count": null,
   "id": "a1cef608-3533-4c4b-bb09-1471b5c43b45",
   "metadata": {},
   "outputs": [],
   "source": [
    "# Path para salvar o arquivo\n",
    "csv_empresas_socios_temp = os.path.join(GOLD_DIR, \"gold_empresas_socios_temp.csv\")\n",
    "\n",
    "# Se o arquivo já existir, remove antes de começar\n",
    "if os.path.exists(csv_empresas_socios_temp):\n",
    "    os.remove(csv_empresas_socios_temp)\n",
    "\n",
    "# --- Seleciona colunas do df_gold ---\n",
    "df_gold_filtered = df_gold.select([\n",
    "    pl.col(\"cnpj\").cast(pl.Utf8),\n",
    "    pl.col(\"qtde_socios\").cast(pl.Int32),\n",
    "    pl.col(\"flag_socio_estrangeiro\").cast(pl.Boolean),\n",
    "    pl.col(\"doc_alvo\").cast(pl.Boolean)\n",
    "])\n",
    "\n",
    "# --- LIBERAR MEMÓRIA ---\n",
    "del df_gold\n",
    "gc.collect()\n",
    "\n",
    "# --- Salva CSV com delimitador seguro (~) e quotes apenas quando necessário ---\n",
    "df_gold_filtered.write_csv(\n",
    "    file=csv_empresas_socios_temp,\n",
    "    separator=\"~\",\n",
    "    quote_style=\"necessary\"\n",
    ")\n",
    "\n",
    "print(\"Arquivo salvo em \", csv_empresas_socios_temp)"
   ]
  },
  {
   "cell_type": "markdown",
   "id": "4e828d0c-96b8-4b52-85e3-60b2151cf5fb",
   "metadata": {},
   "source": [
    "### Salvar no Postgres"
   ]
  },
  {
   "cell_type": "code",
   "execution_count": null,
   "id": "21032061-f8ae-4cab-a39c-325310206d35",
   "metadata": {},
   "outputs": [],
   "source": [
    "# --- Conecta no Postgres ---\n",
    "cur = conn.cursor()\n",
    "\n",
    "# --- Cria tabela com schema correto ---\n",
    "cur.execute(sql.SQL(\"\"\"\n",
    "    DROP TABLE IF EXISTS prd_empresas_socios_gold;\n",
    "    CREATE TABLE prd_empresas_socios_gold (\n",
    "        cnpj TEXT,\n",
    "        qtde_socios INT,\n",
    "        flag_socio_estrangeiro BOOLEAN,\n",
    "        doc_alvo BOOLEAN\n",
    "    );\n",
    "\"\"\"))\n",
    "\n",
    "# --- COPY CSV para o Postgres ---\n",
    "with open(csv_empresas_socios_temp, \"r\", encoding=\"utf-8\") as f:\n",
    "    cur.copy_expert(\n",
    "        sql.SQL(\"COPY prd_empresas_socios_gold FROM STDIN WITH CSV HEADER DELIMITER '~'\"),\n",
    "        f\n",
    "    )\n",
    "\n",
    "conn.commit()\n",
    "cur.close()\n",
    "conn.close()\n",
    "\n",
    "# --- Remove CSV temporário ---\n",
    "if os.path.exists(csv_empresas_socios_temp):\n",
    "    os.remove(csv_empresas_socios_temp)\n",
    "\n",
    "# --- Limpeza de memória ---\n",
    "del df_gold_filtered\n",
    "gc.collect()\n",
    "\n",
    "print(\"Tabela 'prd_empresas_socios_gold' criada com sucesso e CSV temporário removido.\")"
   ]
  }
 ],
 "metadata": {
  "kernelspec": {
   "display_name": "Python 3 (ipykernel)",
   "language": "python",
   "name": "python3"
  },
  "language_info": {
   "codemirror_mode": {
    "name": "ipython",
    "version": 3
   },
   "file_extension": ".py",
   "mimetype": "text/x-python",
   "name": "python",
   "nbconvert_exporter": "python",
   "pygments_lexer": "ipython3",
   "version": "3.12.11"
  }
 },
 "nbformat": 4,
 "nbformat_minor": 5
}
