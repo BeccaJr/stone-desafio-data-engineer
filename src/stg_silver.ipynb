{
 "cells": [
  {
   "cell_type": "markdown",
   "id": "9caa2a07-5d9f-49b0-bb7b-e8dd19001f37",
   "metadata": {},
   "source": [
    "# Objetivo:\n",
    "\n",
    "- Recuperação dos dados da Camada Bronze;\n",
    "- Filtro de colunas;\n",
    "- Tipagem dos Dados;\n",
    "- Sanitização da Base;\n",
    "- Salvar saída das tabelas na camada Silver."
   ]
  },
  {
   "cell_type": "markdown",
   "id": "66feb336-3ec2-4a47-aed9-ea36552e15b7",
   "metadata": {},
   "source": [
    "### Import das Bibliotecas"
   ]
  },
  {
   "cell_type": "code",
   "execution_count": 1,
   "id": "7843da94-7590-4982-ac51-7d932456a7de",
   "metadata": {},
   "outputs": [],
   "source": [
    "import pandas as pd\n",
    "import os"
   ]
  },
  {
   "cell_type": "markdown",
   "id": "5bcf767a-6073-439d-8c64-b3327440834e",
   "metadata": {},
   "source": [
    "### Definição dos Diretórios"
   ]
  },
  {
   "cell_type": "code",
   "execution_count": 2,
   "id": "4d498902-7780-4ce7-b4c7-e833b24b4ef8",
   "metadata": {},
   "outputs": [],
   "source": [
    "DATA_DIR = '../data'\n",
    "\n",
    "BRONZE_DIR = os.path.join(DATA_DIR, 'bronze')\n",
    "SILVER_DIR = os.path.join(DATA_DIR, 'silver')\n",
    "\n",
    "# Garante que o diretório silver exista\n",
    "\n",
    "os.makedirs(SILVER_DIR, exist_ok=True)"
   ]
  },
  {
   "cell_type": "markdown",
   "id": "7a190205-0926-4cfd-aa9f-aed3015c6dc4",
   "metadata": {},
   "source": [
    "### Definição dos nomes dos Arquivos na camada Bronze Dinâmico"
   ]
  },
  {
   "cell_type": "code",
   "execution_count": 3,
   "id": "6da621e8-8fa7-4dfa-a66d-3aa0227ebd2f",
   "metadata": {},
   "outputs": [],
   "source": [
    "EMPRESA_FILE_BRONZE = None\n",
    "SOCIO_FILE_BRONZE = None\n",
    "\n",
    "# Lista todos os arquivos no diretório bronze\n",
    "\n",
    "try:\n",
    "    bronze_files = os.listdir(BRONZE_DIR)\n",
    "\n",
    "    # Procura pelos arquivos de Empresa e Socio com base no sufixo\n",
    "    for filename in bronze_files:\n",
    "        if filename.endswith('.EMPRECSV'):\n",
    "            EMPRESA_FILE_BRONZE = os.path.join(BRONZE_DIR, filename)\n",
    "        elif filename.endswith('.SOCIOCSV'):\n",
    "            SOCIO_FILE_BRONZE = os.path.join(BRONZE_DIR, filename)\n",
    "\n",
    "    # Verifica se os arquivos foram encontrados\n",
    "    if EMPRESA_FILE_BRONZE is None:\n",
    "        raise FileNotFoundError(f\"Nenhum arquivo terminando com '.EMPRECSV' encontrado em {BRONZE_DIR}. Verifique o nome do arquivo.\")\n",
    "    if SOCIO_FILE_BRONZE is None:\n",
    "        raise FileNotFoundError(f\"Nenhum arquivo terminando com '.SOCIOCSV' encontrado em {BRONZE_DIR}. Verifique o nome do arquivo.\")\n",
    "\n",
    "except FileNotFoundError as e:\n",
    "    print(f\"ERRO: {e}\")\n",
    "    exit()\n",
    "except Exception as e:\n",
    "    print(f\"Ocorreu um erro ao listar arquivos no diretório bronze: {e}\")\n",
    "    exit()"
   ]
  },
  {
   "cell_type": "markdown",
   "id": "7a20eb7e-f300-482a-aa01-48bb250a39d2",
   "metadata": {},
   "source": [
    "#### Nome dos Arquivos na Camada Silver"
   ]
  },
  {
   "cell_type": "code",
   "execution_count": 4,
   "id": "544b1d5b-49d6-4511-bb12-a1b1beb735ad",
   "metadata": {},
   "outputs": [],
   "source": [
    "# Nomes dos arquivos na camada silver\n",
    "\n",
    "EMPRESA_FILE_SILVER = os.path.join(SILVER_DIR, 'empresas_silver.parquet')\n",
    "SOCIO_FILE_SILVER = os.path.join(SILVER_DIR, 'socios_silver.parquet')"
   ]
  },
  {
   "cell_type": "markdown",
   "id": "aa36fe75-242b-4cc2-a397-a714b2926c56",
   "metadata": {},
   "source": [
    "### Parâmetros de Leitura dos Arquivos"
   ]
  },
  {
   "cell_type": "code",
   "execution_count": 5,
   "id": "ef9cca9c-f507-4840-b157-5ff22fa0a0b4",
   "metadata": {},
   "outputs": [],
   "source": [
    "# --- Parâmetros de Leitura dos Arquivos (Comum para Receita Federal) ---\n",
    "# Os arquivos da Receita Federal geralmente são delimitados por ponto e vírgula,\n",
    "# codificados em latin-1 e não possuem cabeçalho.\n",
    "READ_PARAMS = {\n",
    "    'sep': ';',\n",
    "    'encoding': 'latin-1',\n",
    "    'header': None,\n",
    "    'dtype': str # Ler tudo como string inicialmente para evitar erros de tipo\n",
    "}"
   ]
  },
  {
   "cell_type": "markdown",
   "id": "3e5b7ae7-78f4-4726-89c3-731076ad61be",
   "metadata": {
    "jp-MarkdownHeadingCollapsed": true
   },
   "source": [
    "### Tabela Empresas"
   ]
  },
  {
   "cell_type": "markdown",
   "id": "5c5945fa-4cc5-4d7e-9a8f-634867fdecaa",
   "metadata": {
    "jp-MarkdownHeadingCollapsed": true
   },
   "source": [
    "#### Leitura da Raw"
   ]
  },
  {
   "cell_type": "code",
   "execution_count": 6,
   "id": "3be445cf-39c9-49c5-ab7b-07bdc7d36750",
   "metadata": {
    "collapsed": true,
    "jupyter": {
     "outputs_hidden": true
    }
   },
   "outputs": [
    {
     "data": {
      "text/html": [
       "<div>\n",
       "<style scoped>\n",
       "    .dataframe tbody tr th:only-of-type {\n",
       "        vertical-align: middle;\n",
       "    }\n",
       "\n",
       "    .dataframe tbody tr th {\n",
       "        vertical-align: top;\n",
       "    }\n",
       "\n",
       "    .dataframe thead th {\n",
       "        text-align: right;\n",
       "    }\n",
       "</style>\n",
       "<table border=\"1\" class=\"dataframe\">\n",
       "  <thead>\n",
       "    <tr style=\"text-align: right;\">\n",
       "      <th></th>\n",
       "      <th>0</th>\n",
       "      <th>1</th>\n",
       "      <th>2</th>\n",
       "      <th>3</th>\n",
       "      <th>4</th>\n",
       "      <th>5</th>\n",
       "      <th>6</th>\n",
       "    </tr>\n",
       "  </thead>\n",
       "  <tbody>\n",
       "    <tr>\n",
       "      <th>0</th>\n",
       "      <td>41273590</td>\n",
       "      <td>MARIA DAS MERCES SOARES LEMOS</td>\n",
       "      <td>4014</td>\n",
       "      <td>34</td>\n",
       "      <td>0,00</td>\n",
       "      <td>05</td>\n",
       "      <td>NaN</td>\n",
       "    </tr>\n",
       "    <tr>\n",
       "      <th>1</th>\n",
       "      <td>41273591</td>\n",
       "      <td>CASSIO APARECIDO LOPES 06457523803</td>\n",
       "      <td>2135</td>\n",
       "      <td>50</td>\n",
       "      <td>1000,00</td>\n",
       "      <td>01</td>\n",
       "      <td>NaN</td>\n",
       "    </tr>\n",
       "    <tr>\n",
       "      <th>2</th>\n",
       "      <td>41273592</td>\n",
       "      <td>41.273.592 HELIO DE JESUS PEREIRA</td>\n",
       "      <td>2135</td>\n",
       "      <td>50</td>\n",
       "      <td>30000,00</td>\n",
       "      <td>01</td>\n",
       "      <td>NaN</td>\n",
       "    </tr>\n",
       "    <tr>\n",
       "      <th>3</th>\n",
       "      <td>41273593</td>\n",
       "      <td>JULIO CESAR NUNES 39611300867</td>\n",
       "      <td>2135</td>\n",
       "      <td>50</td>\n",
       "      <td>3000,00</td>\n",
       "      <td>01</td>\n",
       "      <td>NaN</td>\n",
       "    </tr>\n",
       "    <tr>\n",
       "      <th>4</th>\n",
       "      <td>41273594</td>\n",
       "      <td>OZINETE DELFINO CALDAS 41608224287</td>\n",
       "      <td>2135</td>\n",
       "      <td>50</td>\n",
       "      <td>5000,00</td>\n",
       "      <td>01</td>\n",
       "      <td>NaN</td>\n",
       "    </tr>\n",
       "    <tr>\n",
       "      <th>...</th>\n",
       "      <td>...</td>\n",
       "      <td>...</td>\n",
       "      <td>...</td>\n",
       "      <td>...</td>\n",
       "      <td>...</td>\n",
       "      <td>...</td>\n",
       "      <td>...</td>\n",
       "    </tr>\n",
       "    <tr>\n",
       "      <th>23537411</th>\n",
       "      <td>98819550</td>\n",
       "      <td>ANTONIO ORIQUES CARDOSO</td>\n",
       "      <td>2135</td>\n",
       "      <td>50</td>\n",
       "      <td>0,00</td>\n",
       "      <td>01</td>\n",
       "      <td>NaN</td>\n",
       "    </tr>\n",
       "    <tr>\n",
       "      <th>23537412</th>\n",
       "      <td>98819568</td>\n",
       "      <td>ELI ORIQUES CARDOSO</td>\n",
       "      <td>2135</td>\n",
       "      <td>50</td>\n",
       "      <td>0,00</td>\n",
       "      <td>01</td>\n",
       "      <td>NaN</td>\n",
       "    </tr>\n",
       "    <tr>\n",
       "      <th>23537413</th>\n",
       "      <td>98819600</td>\n",
       "      <td>PAULINO LEMOS DA SILVA</td>\n",
       "      <td>2135</td>\n",
       "      <td>50</td>\n",
       "      <td>0,00</td>\n",
       "      <td>05</td>\n",
       "      <td>NaN</td>\n",
       "    </tr>\n",
       "    <tr>\n",
       "      <th>23537414</th>\n",
       "      <td>98819832</td>\n",
       "      <td>JOAO FELTRIN</td>\n",
       "      <td>2135</td>\n",
       "      <td>50</td>\n",
       "      <td>0,00</td>\n",
       "      <td>01</td>\n",
       "      <td>NaN</td>\n",
       "    </tr>\n",
       "    <tr>\n",
       "      <th>23537415</th>\n",
       "      <td>99017782</td>\n",
       "      <td>SOCIEDADE UNIAO DE ARTISTAS</td>\n",
       "      <td>3999</td>\n",
       "      <td>16</td>\n",
       "      <td>0,00</td>\n",
       "      <td>05</td>\n",
       "      <td>NaN</td>\n",
       "    </tr>\n",
       "  </tbody>\n",
       "</table>\n",
       "<p>23537416 rows × 7 columns</p>\n",
       "</div>"
      ],
      "text/plain": [
       "                 0                                   1     2   3         4  \\\n",
       "0         41273590       MARIA DAS MERCES SOARES LEMOS  4014  34      0,00   \n",
       "1         41273591  CASSIO APARECIDO LOPES 06457523803  2135  50   1000,00   \n",
       "2         41273592   41.273.592 HELIO DE JESUS PEREIRA  2135  50  30000,00   \n",
       "3         41273593       JULIO CESAR NUNES 39611300867  2135  50   3000,00   \n",
       "4         41273594  OZINETE DELFINO CALDAS 41608224287  2135  50   5000,00   \n",
       "...            ...                                 ...   ...  ..       ...   \n",
       "23537411  98819550             ANTONIO ORIQUES CARDOSO  2135  50      0,00   \n",
       "23537412  98819568                 ELI ORIQUES CARDOSO  2135  50      0,00   \n",
       "23537413  98819600              PAULINO LEMOS DA SILVA  2135  50      0,00   \n",
       "23537414  98819832                        JOAO FELTRIN  2135  50      0,00   \n",
       "23537415  99017782         SOCIEDADE UNIAO DE ARTISTAS  3999  16      0,00   \n",
       "\n",
       "           5    6  \n",
       "0         05  NaN  \n",
       "1         01  NaN  \n",
       "2         01  NaN  \n",
       "3         01  NaN  \n",
       "4         01  NaN  \n",
       "...       ..  ...  \n",
       "23537411  01  NaN  \n",
       "23537412  01  NaN  \n",
       "23537413  05  NaN  \n",
       "23537414  01  NaN  \n",
       "23537415  05  NaN  \n",
       "\n",
       "[23537416 rows x 7 columns]"
      ]
     },
     "metadata": {},
     "output_type": "display_data"
    }
   ],
   "source": [
    "# Ler tabela Empresas\n",
    "\n",
    "df_empresas_raw = pd.read_csv(EMPRESA_FILE_BRONZE, **READ_PARAMS)\n",
    "display(df_empresas_raw)"
   ]
  },
  {
   "cell_type": "markdown",
   "id": "296b1baa-ea87-418f-96f2-21098c8b3b67",
   "metadata": {
    "jp-MarkdownHeadingCollapsed": true
   },
   "source": [
    "#### Camada Silver"
   ]
  },
  {
   "cell_type": "code",
   "execution_count": 7,
   "id": "a6c58cd8-a313-4e4b-a9fc-3b31ba170887",
   "metadata": {},
   "outputs": [],
   "source": [
    "# Seleciona e renomeia as colunas\n",
    "\n",
    "df_empresas_silver = df_empresas_raw[[0, 1, 2, 3, 4, 5]].copy()\n",
    "df_empresas_silver.columns = [\n",
    "    'cnpj',\n",
    "    'razao_social',\n",
    "    'natureza_juridica',\n",
    "    'qualificacao_responsavel',\n",
    "    'capital_social',\n",
    "    'cod_porte'\n",
    "]"
   ]
  },
  {
   "cell_type": "code",
   "execution_count": 8,
   "id": "70fe6699-c450-46bc-86aa-d9642a9cef89",
   "metadata": {},
   "outputs": [],
   "source": [
    "# Conversão de tipos de dados\n",
    "# Usar pd.to_numeric com errors='coerce' para tratar valores não numéricos como NaN\n",
    "# e depois preencher NaN com um valor padrão ou remover se necessário\n",
    "\n",
    "df_empresas_silver['natureza_juridica'] = pd.to_numeric(df_empresas_silver['natureza_juridica'], errors='coerce').fillna(-1).astype(int)\n",
    "df_empresas_silver['qualificacao_responsavel'] = pd.to_numeric(df_empresas_silver['qualificacao_responsavel'], errors='coerce').fillna(-1).astype(int)\n",
    "df_empresas_silver['capital_social'] = pd.to_numeric(df_empresas_silver['capital_social'].str.replace(',', '.'), errors='coerce').fillna(0.0).astype(float)\n",
    "df_empresas_silver = df_empresas_silver.astype({\"cnpj\": \"string\", \"razao_social\": \"string\", \"cod_porte\": \"string\"})\n",
    "\n",
    "# Limpeza de strings: remover espaços em branco extras\n",
    "\n",
    "df_empresas_silver['razao_social'] = df_empresas_silver['razao_social'].str.strip()\n",
    "df_empresas_silver['cod_porte'] = df_empresas_silver['cod_porte'].str.strip()"
   ]
  },
  {
   "cell_type": "code",
   "execution_count": 9,
   "id": "f562eafa-4457-4b3f-b846-b77de1d2a133",
   "metadata": {
    "collapsed": true,
    "jupyter": {
     "outputs_hidden": true
    }
   },
   "outputs": [
    {
     "name": "stdout",
     "output_type": "stream",
     "text": [
      "Tabela de Empresas processada. Total de registros: 23537416\n",
      "Primeiras 5 linhas da tabela Empresas (Silver):\n",
      "       cnpj                        razao_social  natureza_juridica  \\\n",
      "0  41273590       MARIA DAS MERCES SOARES LEMOS               4014   \n",
      "1  41273591  CASSIO APARECIDO LOPES 06457523803               2135   \n",
      "2  41273592   41.273.592 HELIO DE JESUS PEREIRA               2135   \n",
      "3  41273593       JULIO CESAR NUNES 39611300867               2135   \n",
      "4  41273594  OZINETE DELFINO CALDAS 41608224287               2135   \n",
      "\n",
      "   qualificacao_responsavel  capital_social cod_porte  \n",
      "0                        34             0.0        05  \n",
      "1                        50          1000.0        01  \n",
      "2                        50         30000.0        01  \n",
      "3                        50          3000.0        01  \n",
      "4                        50          5000.0        01  \n",
      "\n",
      "Tipos de dados da tabela Empresas (Silver):\n",
      "cnpj                        string[python]\n",
      "razao_social                string[python]\n",
      "natureza_juridica                    int64\n",
      "qualificacao_responsavel             int64\n",
      "capital_social                     float64\n",
      "cod_porte                   string[python]\n",
      "dtype: object\n"
     ]
    }
   ],
   "source": [
    "print(f\"Tabela de Empresas processada. Total de registros: {len(df_empresas_silver)}\")\n",
    "print(\"Primeiras 5 linhas da tabela Empresas (Silver):\")\n",
    "print(df_empresas_silver.head())\n",
    "print(\"\\nTipos de dados da tabela Empresas (Silver):\")\n",
    "print(df_empresas_silver.dtypes)"
   ]
  },
  {
   "cell_type": "code",
   "execution_count": 10,
   "id": "6cc0ac30-f254-4857-9117-26e6ec1afc1b",
   "metadata": {},
   "outputs": [
    {
     "name": "stdout",
     "output_type": "stream",
     "text": [
      "Tabela de Empresas salva em: ../data/silver/empresas_silver.parquet\n"
     ]
    }
   ],
   "source": [
    "# Salva o DataFrame Empresa na camada Silver\n",
    "\n",
    "df_empresas_silver.to_parquet(EMPRESA_FILE_SILVER, index=False)\n",
    "print(f\"Tabela de Empresas salva em: {EMPRESA_FILE_SILVER}\")"
   ]
  },
  {
   "cell_type": "markdown",
   "id": "a36d8366-c8eb-4119-8234-e87d12a598dd",
   "metadata": {
    "jp-MarkdownHeadingCollapsed": true
   },
   "source": [
    "### Tabela Sócios"
   ]
  },
  {
   "cell_type": "markdown",
   "id": "e98e5585-19e5-4d9c-90e3-ab39199ede93",
   "metadata": {
    "jp-MarkdownHeadingCollapsed": true
   },
   "source": [
    "#### Leitura Raw"
   ]
  },
  {
   "cell_type": "code",
   "execution_count": 6,
   "id": "b165fd33-b148-448f-a85b-8ffb97fe8e0e",
   "metadata": {},
   "outputs": [
    {
     "data": {
      "text/html": [
       "<div>\n",
       "<style scoped>\n",
       "    .dataframe tbody tr th:only-of-type {\n",
       "        vertical-align: middle;\n",
       "    }\n",
       "\n",
       "    .dataframe tbody tr th {\n",
       "        vertical-align: top;\n",
       "    }\n",
       "\n",
       "    .dataframe thead th {\n",
       "        text-align: right;\n",
       "    }\n",
       "</style>\n",
       "<table border=\"1\" class=\"dataframe\">\n",
       "  <thead>\n",
       "    <tr style=\"text-align: right;\">\n",
       "      <th></th>\n",
       "      <th>0</th>\n",
       "      <th>1</th>\n",
       "      <th>2</th>\n",
       "      <th>3</th>\n",
       "      <th>4</th>\n",
       "      <th>5</th>\n",
       "      <th>6</th>\n",
       "      <th>7</th>\n",
       "      <th>8</th>\n",
       "      <th>9</th>\n",
       "      <th>10</th>\n",
       "    </tr>\n",
       "  </thead>\n",
       "  <tbody>\n",
       "    <tr>\n",
       "      <th>0</th>\n",
       "      <td>55499544</td>\n",
       "      <td>2</td>\n",
       "      <td>PAOLA ZORZI GARRINI</td>\n",
       "      <td>***324158**</td>\n",
       "      <td>49</td>\n",
       "      <td>20240612</td>\n",
       "      <td>NaN</td>\n",
       "      <td>***000000**</td>\n",
       "      <td>NaN</td>\n",
       "      <td>00</td>\n",
       "      <td>4</td>\n",
       "    </tr>\n",
       "    <tr>\n",
       "      <th>1</th>\n",
       "      <td>55470492</td>\n",
       "      <td>2</td>\n",
       "      <td>MAURI TESKE XAVIER DE BARROS</td>\n",
       "      <td>***856669**</td>\n",
       "      <td>49</td>\n",
       "      <td>20240610</td>\n",
       "      <td>NaN</td>\n",
       "      <td>***000000**</td>\n",
       "      <td>NaN</td>\n",
       "      <td>00</td>\n",
       "      <td>5</td>\n",
       "    </tr>\n",
       "    <tr>\n",
       "      <th>2</th>\n",
       "      <td>55470492</td>\n",
       "      <td>2</td>\n",
       "      <td>ARTUR TESKE XAVIER DE BARROS</td>\n",
       "      <td>***217579**</td>\n",
       "      <td>49</td>\n",
       "      <td>20240610</td>\n",
       "      <td>NaN</td>\n",
       "      <td>***000000**</td>\n",
       "      <td>NaN</td>\n",
       "      <td>00</td>\n",
       "      <td>3</td>\n",
       "    </tr>\n",
       "    <tr>\n",
       "      <th>3</th>\n",
       "      <td>55520028</td>\n",
       "      <td>2</td>\n",
       "      <td>ESTHER CHAGAS GLASS</td>\n",
       "      <td>***347028**</td>\n",
       "      <td>49</td>\n",
       "      <td>20240613</td>\n",
       "      <td>NaN</td>\n",
       "      <td>***000000**</td>\n",
       "      <td>NaN</td>\n",
       "      <td>00</td>\n",
       "      <td>4</td>\n",
       "    </tr>\n",
       "    <tr>\n",
       "      <th>4</th>\n",
       "      <td>55289082</td>\n",
       "      <td>2</td>\n",
       "      <td>GUILHERME FERREIRA CARDIAS</td>\n",
       "      <td>***126540**</td>\n",
       "      <td>65</td>\n",
       "      <td>20240527</td>\n",
       "      <td>NaN</td>\n",
       "      <td>***000000**</td>\n",
       "      <td>NaN</td>\n",
       "      <td>00</td>\n",
       "      <td>4</td>\n",
       "    </tr>\n",
       "    <tr>\n",
       "      <th>...</th>\n",
       "      <td>...</td>\n",
       "      <td>...</td>\n",
       "      <td>...</td>\n",
       "      <td>...</td>\n",
       "      <td>...</td>\n",
       "      <td>...</td>\n",
       "      <td>...</td>\n",
       "      <td>...</td>\n",
       "      <td>...</td>\n",
       "      <td>...</td>\n",
       "      <td>...</td>\n",
       "    </tr>\n",
       "    <tr>\n",
       "      <th>8024947</th>\n",
       "      <td>62150102</td>\n",
       "      <td>2</td>\n",
       "      <td>MARIA STELLA NUNES ARAUJO MOREIRA</td>\n",
       "      <td>***007968**</td>\n",
       "      <td>65</td>\n",
       "      <td>20250724</td>\n",
       "      <td>NaN</td>\n",
       "      <td>***000000**</td>\n",
       "      <td>NaN</td>\n",
       "      <td>00</td>\n",
       "      <td>6</td>\n",
       "    </tr>\n",
       "    <tr>\n",
       "      <th>8024948</th>\n",
       "      <td>62150102</td>\n",
       "      <td>2</td>\n",
       "      <td>FLAVIA GONCALVES</td>\n",
       "      <td>***842428**</td>\n",
       "      <td>05</td>\n",
       "      <td>20250724</td>\n",
       "      <td>NaN</td>\n",
       "      <td>***000000**</td>\n",
       "      <td>NaN</td>\n",
       "      <td>00</td>\n",
       "      <td>5</td>\n",
       "    </tr>\n",
       "    <tr>\n",
       "      <th>8024949</th>\n",
       "      <td>62150668</td>\n",
       "      <td>2</td>\n",
       "      <td>IAN OLIVEIRA CALACA DA COSTA</td>\n",
       "      <td>***487141**</td>\n",
       "      <td>49</td>\n",
       "      <td>20250809</td>\n",
       "      <td>NaN</td>\n",
       "      <td>***000000**</td>\n",
       "      <td>NaN</td>\n",
       "      <td>00</td>\n",
       "      <td>3</td>\n",
       "    </tr>\n",
       "    <tr>\n",
       "      <th>8024950</th>\n",
       "      <td>62150703</td>\n",
       "      <td>2</td>\n",
       "      <td>MARIA RAYANNE DE OLIVEIRA GUIMARAES</td>\n",
       "      <td>***475983**</td>\n",
       "      <td>49</td>\n",
       "      <td>20250809</td>\n",
       "      <td>NaN</td>\n",
       "      <td>***000000**</td>\n",
       "      <td>NaN</td>\n",
       "      <td>00</td>\n",
       "      <td>3</td>\n",
       "    </tr>\n",
       "    <tr>\n",
       "      <th>8024951</th>\n",
       "      <td>62151569</td>\n",
       "      <td>2</td>\n",
       "      <td>RAFAEL CONCEICAO DOS SANTOS</td>\n",
       "      <td>***727925**</td>\n",
       "      <td>49</td>\n",
       "      <td>20250809</td>\n",
       "      <td>NaN</td>\n",
       "      <td>***000000**</td>\n",
       "      <td>NaN</td>\n",
       "      <td>00</td>\n",
       "      <td>3</td>\n",
       "    </tr>\n",
       "  </tbody>\n",
       "</table>\n",
       "<p>8024952 rows × 11 columns</p>\n",
       "</div>"
      ],
      "text/plain": [
       "               0  1                                    2            3   4   \\\n",
       "0        55499544  2                  PAOLA ZORZI GARRINI  ***324158**  49   \n",
       "1        55470492  2         MAURI TESKE XAVIER DE BARROS  ***856669**  49   \n",
       "2        55470492  2         ARTUR TESKE XAVIER DE BARROS  ***217579**  49   \n",
       "3        55520028  2                  ESTHER CHAGAS GLASS  ***347028**  49   \n",
       "4        55289082  2           GUILHERME FERREIRA CARDIAS  ***126540**  65   \n",
       "...           ... ..                                  ...          ...  ..   \n",
       "8024947  62150102  2    MARIA STELLA NUNES ARAUJO MOREIRA  ***007968**  65   \n",
       "8024948  62150102  2                     FLAVIA GONCALVES  ***842428**  05   \n",
       "8024949  62150668  2         IAN OLIVEIRA CALACA DA COSTA  ***487141**  49   \n",
       "8024950  62150703  2  MARIA RAYANNE DE OLIVEIRA GUIMARAES  ***475983**  49   \n",
       "8024951  62151569  2          RAFAEL CONCEICAO DOS SANTOS  ***727925**  49   \n",
       "\n",
       "               5    6            7    8   9  10  \n",
       "0        20240612  NaN  ***000000**  NaN  00  4  \n",
       "1        20240610  NaN  ***000000**  NaN  00  5  \n",
       "2        20240610  NaN  ***000000**  NaN  00  3  \n",
       "3        20240613  NaN  ***000000**  NaN  00  4  \n",
       "4        20240527  NaN  ***000000**  NaN  00  4  \n",
       "...           ...  ...          ...  ...  .. ..  \n",
       "8024947  20250724  NaN  ***000000**  NaN  00  6  \n",
       "8024948  20250724  NaN  ***000000**  NaN  00  5  \n",
       "8024949  20250809  NaN  ***000000**  NaN  00  3  \n",
       "8024950  20250809  NaN  ***000000**  NaN  00  3  \n",
       "8024951  20250809  NaN  ***000000**  NaN  00  3  \n",
       "\n",
       "[8024952 rows x 11 columns]"
      ]
     },
     "metadata": {},
     "output_type": "display_data"
    }
   ],
   "source": [
    "# Ler tabela Sócios\n",
    "\n",
    "df_socios_raw = pd.read_csv(SOCIO_FILE_BRONZE, **READ_PARAMS)\n",
    "display(df_socios_raw)"
   ]
  },
  {
   "cell_type": "markdown",
   "id": "c6eccc4d-a863-42aa-a13c-1a5fd6241a2a",
   "metadata": {
    "jp-MarkdownHeadingCollapsed": true
   },
   "source": [
    "#### Camada Silver"
   ]
  },
  {
   "cell_type": "code",
   "execution_count": 7,
   "id": "e2c957a4-74b2-445a-9bb7-c0bce5233813",
   "metadata": {},
   "outputs": [],
   "source": [
    "# Seleciona e renomeia as colunas\n",
    "\n",
    "df_socios_silver = df_socios_raw[[0, 1, 2, 3, 4]].copy()\n",
    "df_socios_silver.columns = [\n",
    "    'cnpj',\n",
    "    'tipo_socio',\n",
    "    'nome_socio',\n",
    "    'documento_socio',\n",
    "    'codigo_qualificacao_socio'\n",
    "]"
   ]
  },
  {
   "cell_type": "code",
   "execution_count": 8,
   "id": "80e3773e-c41d-451f-9465-6c06d8d97e9d",
   "metadata": {},
   "outputs": [],
   "source": [
    "# Conversão de tipos de dados\n",
    "\n",
    "df_socios_silver['tipo_socio'] = pd.to_numeric(df_socios_silver['tipo_socio'], errors='coerce').fillna(-1).astype(int)\n",
    "df_socios_silver = df_socios_silver.astype({\"cnpj\": \"string\", \"nome_socio\": \"string\", \"documento_socio\": \"string\", \"codigo_qualificacao_socio\": \"string\"})\n",
    "\n",
    "# Limpeza de strings: remover espaços em branco extras\n",
    "\n",
    "df_socios_silver['nome_socio'] = df_socios_silver['nome_socio'].str.strip()\n",
    "df_socios_silver['documento_socio'] = df_socios_silver['documento_socio'].str.strip()\n",
    "df_socios_silver['codigo_qualificacao_socio'] = df_socios_silver['codigo_qualificacao_socio'].str.strip()"
   ]
  },
  {
   "cell_type": "code",
   "execution_count": 9,
   "id": "76cfe90b-9c21-432e-b03c-8a99d0af1715",
   "metadata": {},
   "outputs": [
    {
     "name": "stdout",
     "output_type": "stream",
     "text": [
      "Tabela de Sócios processada. Total de registros: 8024952\n",
      "Primeiras 5 linhas da tabela Sócios (Silver):\n",
      "       cnpj  tipo_socio                    nome_socio documento_socio  \\\n",
      "0  55499544           2           PAOLA ZORZI GARRINI     ***324158**   \n",
      "1  55470492           2  MAURI TESKE XAVIER DE BARROS     ***856669**   \n",
      "2  55470492           2  ARTUR TESKE XAVIER DE BARROS     ***217579**   \n",
      "3  55520028           2           ESTHER CHAGAS GLASS     ***347028**   \n",
      "4  55289082           2    GUILHERME FERREIRA CARDIAS     ***126540**   \n",
      "\n",
      "  codigo_qualificacao_socio  \n",
      "0                        49  \n",
      "1                        49  \n",
      "2                        49  \n",
      "3                        49  \n",
      "4                        65  \n",
      "\n",
      "Tipos de dados da tabela Sócios (Silver):\n",
      "cnpj                         string[python]\n",
      "tipo_socio                            int64\n",
      "nome_socio                   string[python]\n",
      "documento_socio              string[python]\n",
      "codigo_qualificacao_socio    string[python]\n",
      "dtype: object\n"
     ]
    }
   ],
   "source": [
    "print(f\"Tabela de Sócios processada. Total de registros: {len(df_socios_silver)}\")\n",
    "print(\"Primeiras 5 linhas da tabela Sócios (Silver):\")\n",
    "print(df_socios_silver.head())\n",
    "print(\"\\nTipos de dados da tabela Sócios (Silver):\")\n",
    "print(df_socios_silver.dtypes)"
   ]
  },
  {
   "cell_type": "code",
   "execution_count": 10,
   "id": "d3a7baea-2721-4a95-a849-fe1727ad89c7",
   "metadata": {},
   "outputs": [
    {
     "name": "stdout",
     "output_type": "stream",
     "text": [
      "Tabela de Sócios salva em: ../data/silver/socios_silver.parquet\n"
     ]
    }
   ],
   "source": [
    "# Salva o DataFrame Sócio na camada Silver\n",
    "\n",
    "df_socios_silver.to_parquet(SOCIO_FILE_SILVER, index=False)\n",
    "print(f\"Tabela de Sócios salva em: {SOCIO_FILE_SILVER}\")"
   ]
  }
 ],
 "metadata": {
  "kernelspec": {
   "display_name": "Python 3 (ipykernel)",
   "language": "python",
   "name": "python3"
  },
  "language_info": {
   "codemirror_mode": {
    "name": "ipython",
    "version": 3
   },
   "file_extension": ".py",
   "mimetype": "text/x-python",
   "name": "python",
   "nbconvert_exporter": "python",
   "pygments_lexer": "ipython3",
   "version": "3.12.11"
  }
 },
 "nbformat": 4,
 "nbformat_minor": 5
}
