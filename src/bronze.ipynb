{
 "cells": [
  {
   "cell_type": "markdown",
   "id": "9caa2a07-5d9f-49b0-bb7b-e8dd19001f37",
   "metadata": {},
   "source": [
    "# Objetivo:\n",
    "\n",
    "- Recuperação dos dados da Camada Raw;\n",
    "- Salva de forma dinâmica as colunas no banco de dados.\n",
    "- Subir as informações para o Banco de Dados na tabela 'stg_empresas_bronze' e 'stg_socios_bronze'"
   ]
  },
  {
   "cell_type": "markdown",
   "id": "66feb336-3ec2-4a47-aed9-ea36552e15b7",
   "metadata": {},
   "source": [
    "### Import das Bibliotecas"
   ]
  },
  {
   "cell_type": "code",
   "execution_count": null,
   "id": "7843da94-7590-4982-ac51-7d932456a7de",
   "metadata": {},
   "outputs": [],
   "source": [
    "import polars as pl\n",
    "import os\n",
    "import psycopg2\n",
    "import gc\n",
    "from sqlalchemy import create_engine\n",
    "from dotenv import load_dotenv\n",
    "from psycopg2 import sql"
   ]
  },
  {
   "cell_type": "markdown",
   "id": "5bcf767a-6073-439d-8c64-b3327440834e",
   "metadata": {},
   "source": [
    "### Definição dos Diretórios"
   ]
  },
  {
   "cell_type": "code",
   "execution_count": null,
   "id": "4d498902-7780-4ce7-b4c7-e833b24b4ef8",
   "metadata": {},
   "outputs": [],
   "source": [
    "DATA_DIR = '../data'\n",
    "\n",
    "BRONZE_DIR = os.path.join(DATA_DIR, 'bronze')\n",
    "RAW_DIR = os.path.join(DATA_DIR, 'raw')\n",
    "\n",
    "# Garante que os diretórios existam\n",
    "os.makedirs(BRONZE_DIR, exist_ok=True)\n",
    "os.makedirs(RAW_DIR, exist_ok=True)"
   ]
  },
  {
   "cell_type": "markdown",
   "id": "37c401e1-5f1f-46d8-8450-1d6aa65ca5e4",
   "metadata": {},
   "source": [
    "### Definição dos nomes dos Arquivos na camada Raw Dinâmico"
   ]
  },
  {
   "cell_type": "code",
   "execution_count": null,
   "id": "6da621e8-8fa7-4dfa-a66d-3aa0227ebd2f",
   "metadata": {},
   "outputs": [],
   "source": [
    "EMPRESA_FILE_RAW = None\n",
    "SOCIO_FILE_RAW = None\n",
    "\n",
    "# Lista todos os arquivos no diretório bronze\n",
    "\n",
    "try:\n",
    "    raw_files = os.listdir(RAW_DIR)\n",
    "\n",
    "    # Procura pelos arquivos de Empresa e Socio com base no sufixo\n",
    "    for filename in raw_files:\n",
    "        if filename.endswith('.EMPRECSV'):\n",
    "            EMPRESA_FILE_RAW = os.path.join(RAW_DIR, filename)\n",
    "        elif filename.endswith('.SOCIOCSV'):\n",
    "            SOCIO_FILE_RAW = os.path.join(RAW_DIR, filename)\n",
    "\n",
    "    # Verifica se os arquivos foram encontrados\n",
    "    if EMPRESA_FILE_RAW is None:\n",
    "        raise FileNotFoundError(f\"Nenhum arquivo terminando com '.EMPRECSV' encontrado em {RAW_DIR}. Verifique o nome do arquivo.\")\n",
    "    if SOCIO_FILE_RAW is None:\n",
    "        raise FileNotFoundError(f\"Nenhum arquivo terminando com '.SOCIOCSV' encontrado em {RAW_DIR}. Verifique o nome do arquivo.\")\n",
    "\n",
    "except FileNotFoundError as e:\n",
    "    print(f\"ERRO: {e}\")\n",
    "    exit()\n",
    "except Exception as e:\n",
    "    print(f\"Ocorreu um erro ao listar arquivos no diretório raw: {e}\")\n",
    "    exit()"
   ]
  },
  {
   "cell_type": "markdown",
   "id": "3e5b7ae7-78f4-4726-89c3-731076ad61be",
   "metadata": {},
   "source": [
    "### Leitura da Raw"
   ]
  },
  {
   "cell_type": "markdown",
   "id": "47f412c8-8b9b-4d01-8943-212f832a852d",
   "metadata": {},
   "source": [
    "### Parâmetros de Leitura dos Arquivos"
   ]
  },
  {
   "cell_type": "code",
   "execution_count": null,
   "id": "65d4d403-5066-425c-9af1-a253b5e908e0",
   "metadata": {},
   "outputs": [],
   "source": [
    "# --- Parâmetros de Leitura dos Arquivos (Comum para Receita Federal) ---\n",
    "# Os arquivos da Receita Federal geralmente são delimitados por ponto e vírgula,\n",
    "# codificados em latin-1 e não possuem cabeçalho.\n",
    "READ_PARAMS = {\n",
    "    \"separator\": \";\",\n",
    "    \"encoding\": \"latin1\",\n",
    "    \"has_header\": False,\n",
    "    # infer_schema_length=0 => força todas como string sem precisar mapear coluna por coluna\n",
    "    \"infer_schema_length\": 0 \n",
    "}"
   ]
  },
  {
   "cell_type": "markdown",
   "id": "5c5945fa-4cc5-4d7e-9a8f-634867fdecaa",
   "metadata": {},
   "source": [
    "#### Tabela Empresas"
   ]
  },
  {
   "cell_type": "code",
   "execution_count": null,
   "id": "3be445cf-39c9-49c5-ab7b-07bdc7d36750",
   "metadata": {},
   "outputs": [],
   "source": [
    "# Ler tabela Empresas\n",
    "\n",
    "df_empresas = pl.read_csv(EMPRESA_FILE_RAW, **READ_PARAMS)\n",
    "\n",
    "# Salva CSV Temporário no Diretório Bronze\n",
    "\n",
    "csv_empresas_temp = os.path.join(BRONZE_DIR, \"bronze_empresas_temp.csv\")\n",
    "df_empresas.write_csv(csv_empresas_temp)\n",
    "\n",
    "print(\"Salvo arquivo em \", csv_empresas_temp)\n",
    "\n",
    "# Deleta o DataFrame\n",
    "del df_empresas\n",
    "\n",
    "# Força o garbage collector a liberar a memória\n",
    "gc.collect()\n",
    "\n",
    "print(\"Liberado a memória RAM\")"
   ]
  },
  {
   "cell_type": "markdown",
   "id": "e98e5585-19e5-4d9c-90e3-ab39199ede93",
   "metadata": {},
   "source": [
    "#### Tabela Sócios"
   ]
  },
  {
   "cell_type": "code",
   "execution_count": null,
   "id": "b165fd33-b148-448f-a85b-8ffb97fe8e0e",
   "metadata": {},
   "outputs": [],
   "source": [
    "# Ler tabela Sócios\n",
    "\n",
    "df_socios = pl.read_csv(SOCIO_FILE_RAW, **READ_PARAMS)\n",
    "\n",
    "# Salva CSV Temporário no Diretório Bronze\n",
    "\n",
    "csv_socios_temp = os.path.join(BRONZE_DIR, \"bronze_socios_temp.csv\")\n",
    "df_socios.write_csv(csv_socios_temp)\n",
    "\n",
    "print(\"Salvo arquivo em \", csv_socios_temp)\n",
    "\n",
    "# Deleta o DataFrame\n",
    "del df_socios\n",
    "\n",
    "# Força o garbage collector a liberar a memória\n",
    "gc.collect()\n",
    "\n",
    "print(\"Liberado a memória RAM\")"
   ]
  },
  {
   "cell_type": "markdown",
   "id": "88b21735-335e-4baa-97fd-3249e0e4756f",
   "metadata": {},
   "source": [
    "### Salvar no Postgres"
   ]
  },
  {
   "cell_type": "code",
   "execution_count": null,
   "id": "37fe0701-534b-4882-a54d-d00dea1008df",
   "metadata": {},
   "outputs": [],
   "source": [
    "# Carrega variáveis de ambiente (.env)\n",
    "load_dotenv(dotenv_path=\"../.env\")\n",
    "\n",
    "DB_USER = os.getenv(\"DB_USER\")\n",
    "DB_PASS = os.getenv(\"DB_PASSWORD\")\n",
    "DB_NAME = os.getenv(\"DB_NAME\")\n",
    "DB_HOST = os.getenv(\"DB_HOST\")\n",
    "DB_PORT = os.getenv(\"DB_PORT\")"
   ]
  },
  {
   "cell_type": "markdown",
   "id": "68351ac2-ad13-4d35-9623-1248e66b8a39",
   "metadata": {},
   "source": [
    "#### Mapeamento dos tipos do Polars para o Postgres"
   ]
  },
  {
   "cell_type": "code",
   "execution_count": null,
   "id": "b29e1025-b053-4bbf-a1f8-f4b8fddae915",
   "metadata": {},
   "outputs": [],
   "source": [
    "def inferir_tipo_postgres(dtype: pl.datatypes.DataType) -> str:\n",
    "    \"\"\"Mapeia tipos do Polars para tipos do Postgres.\"\"\"\n",
    "    if dtype == pl.Int64 or dtype == pl.Int32 or dtype == pl.UInt32 or dtype == pl.UInt64:\n",
    "        return \"BIGINT\"\n",
    "    elif dtype == pl.Float64 or dtype == pl.Float32:\n",
    "        return \"DOUBLE PRECISION\"\n",
    "    elif dtype == pl.Boolean:\n",
    "        return \"BOOLEAN\"\n",
    "    elif dtype == pl.Datetime or dtype == pl.Date:\n",
    "        return \"TIMESTAMP\"\n",
    "    else:\n",
    "        return \"TEXT\""
   ]
  },
  {
   "cell_type": "markdown",
   "id": "93ff1e2f-cb6f-4eaa-aa6d-bce91574e03c",
   "metadata": {},
   "source": [
    "#### Função escrever no banco de Dados"
   ]
  },
  {
   "cell_type": "code",
   "execution_count": null,
   "id": "82866953-e23b-4f5c-b1ca-a3c760fa433e",
   "metadata": {},
   "outputs": [],
   "source": [
    "def escrever_banco(csv_temp, nome_tabela,\n",
    "                   dbname, user, password, host, port):\n",
    "    # Lê apenas 100 linhas para inferir o schema\n",
    "    df_sample = pl.read_csv(\n",
    "        csv_temp,\n",
    "        separator=\",\",\n",
    "        encoding=\"utf-8\",\n",
    "        has_header=False,\n",
    "        infer_schema_length=1000,\n",
    "        n_rows=100\n",
    "    )\n",
    "\n",
    "    # Monta schema dinâmico\n",
    "    colunas = []\n",
    "    for col, dtype in zip(df_sample.columns, df_sample.dtypes):\n",
    "        pg_tipo = inferir_tipo_postgres(dtype)\n",
    "        colunas.append(f\"{col} {pg_tipo}\")\n",
    "\n",
    "    schema_sql = \",\\n    \".join(colunas)\n",
    "\n",
    "    # Conecta no Postgres\n",
    "    conn = psycopg2.connect(\n",
    "        dbname=dbname,\n",
    "        user=user,\n",
    "        password=password,\n",
    "        host=host,\n",
    "        port=port\n",
    "    )\n",
    "    cur = conn.cursor()\n",
    "\n",
    "    # Cria tabela com nome dinâmico\n",
    "    cur.execute(sql.SQL(\"\"\"\n",
    "        DROP TABLE IF EXISTS {tabela};\n",
    "        CREATE TABLE {tabela} (\n",
    "            {schema}\n",
    "        );\n",
    "    \"\"\").format(\n",
    "        tabela=sql.Identifier(nome_tabela),\n",
    "        schema=sql.SQL(schema_sql)\n",
    "    ))\n",
    "\n",
    "    # COPY direto, sem abrir no Python\n",
    "    with open(csv_temp, \"r\", encoding=\"utf-8\") as f:\n",
    "        cur.copy_expert(\n",
    "            sql.SQL(\"COPY {tabela} FROM STDIN WITH CSV HEADER DELIMITER ','\").format(\n",
    "                tabela=sql.Identifier(nome_tabela)\n",
    "            ),\n",
    "            f\n",
    "        )\n",
    "\n",
    "    conn.commit()\n",
    "    cur.close()\n",
    "    conn.close()\n",
    "\n",
    "    print(f\"Tabela '{nome_tabela}' salva no Postgres via COPY\")\n",
    "\n",
    "    # Remove CSV temporário\n",
    "    if os.path.exists(csv_temp):\n",
    "        os.remove(csv_temp)\n",
    "        print(\"Arquivo temporário removido:\", csv_temp)"
   ]
  },
  {
   "cell_type": "markdown",
   "id": "ebcd50ae-67de-49e9-bae4-da71e9ccaed0",
   "metadata": {},
   "source": [
    "#### Chamar funções"
   ]
  },
  {
   "cell_type": "code",
   "execution_count": null,
   "id": "c8c8f3f6-ab4f-474d-b9d2-bfc745aaec5d",
   "metadata": {},
   "outputs": [],
   "source": [
    "escrever_banco(\n",
    "    csv_temp=csv_empresas_temp,\n",
    "    nome_tabela=\"stg_empresas_bronze\",\n",
    "    dbname=DB_NAME,\n",
    "    user=DB_USER,\n",
    "    password=DB_PASS,\n",
    "    host=DB_HOST,\n",
    "    port=DB_PORT\n",
    ")"
   ]
  },
  {
   "cell_type": "code",
   "execution_count": null,
   "id": "f2a92134-417a-467b-a77d-a5f22ddb19a2",
   "metadata": {},
   "outputs": [],
   "source": [
    "escrever_banco(\n",
    "    csv_temp=csv_socios_temp,\n",
    "    nome_tabela=\"stg_socios_bronze\",\n",
    "    dbname=DB_NAME,\n",
    "    user=DB_USER,\n",
    "    password=DB_PASS,\n",
    "    host=DB_HOST,\n",
    "    port=DB_PORT\n",
    ")"
   ]
  }
 ],
 "metadata": {
  "kernelspec": {
   "display_name": "Python 3 (ipykernel)",
   "language": "python",
   "name": "python3"
  },
  "language_info": {
   "codemirror_mode": {
    "name": "ipython",
    "version": 3
   },
   "file_extension": ".py",
   "mimetype": "text/x-python",
   "name": "python",
   "nbconvert_exporter": "python",
   "pygments_lexer": "ipython3",
   "version": "3.12.11"
  }
 },
 "nbformat": 4,
 "nbformat_minor": 5
}
