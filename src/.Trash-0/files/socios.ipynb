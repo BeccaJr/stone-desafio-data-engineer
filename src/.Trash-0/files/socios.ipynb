{
 "cells": [
  {
   "cell_type": "code",
   "execution_count": 2,
   "id": "e5124b60-c47e-43f5-9fbb-c1e0e044df12",
   "metadata": {},
   "outputs": [],
   "source": [
    "import os"
   ]
  },
  {
   "cell_type": "code",
   "execution_count": null,
   "id": "4d498902-7780-4ce7-b4c7-e833b24b4ef8",
   "metadata": {},
   "outputs": [],
   "source": [
    "DATA_DIR = '../data'\n",
    "\n",
    "BRONZE_DIR = os.path.join(DATA_DIR, 'bronze')\n",
    "SILVER_DIR = os.path.join(DATA_DIR, 'silver')\n",
    "\n",
    "# Garante que o diretório silver exista\n",
    "os.makedirs(SILVER_DIR, exist_ok=True)"
   ]
  },
  {
   "cell_type": "code",
   "execution_count": null,
   "id": "6da621e8-8fa7-4dfa-a66d-3aa0227ebd2f",
   "metadata": {},
   "outputs": [],
   "source": [
    "# Nomes dos arquivos na camada bronze\n",
    "EMPRESA_FILE_BRONZE = os.path.join(BRONZE_DIR, 'K3241.K03200Y0.D50809.EMPRECSV')\n",
    "SOCIO_FILE_BRONZE = os.path.join(BRONZE_DIR, 'K3241.K03200Y0.D50809.SOCIOCSV')"
   ]
  },
  {
   "cell_type": "code",
   "execution_count": null,
   "id": "544b1d5b-49d6-4511-bb12-a1b1beb735ad",
   "metadata": {},
   "outputs": [],
   "source": [
    "# Nomes dos arquivos na camada silver\n",
    "EMPRESA_FILE_SILVER = os.path.join(SILVER_DIR, 'empresas_silver.parquet')\n",
    "SOCIO_FILE_SILVER = os.path.join(SILVER_DIR, 'socios_silver.parquet')"
   ]
  },
  {
   "cell_type": "code",
   "execution_count": null,
   "id": "ef9cca9c-f507-4840-b157-5ff22fa0a0b4",
   "metadata": {},
   "outputs": [],
   "source": [
    "# --- Parâmetros de Leitura dos Arquivos (Comum para Receita Federal) ---\n",
    "# Os arquivos da Receita Federal geralmente são delimitados por ponto e vírgula,\n",
    "# codificados em latin-1 e não possuem cabeçalho.\n",
    "READ_PARAMS = {\n",
    "    'sep': ';',\n",
    "    'encoding': 'latin-1',\n",
    "    'header': None,\n",
    "    'dtype': str # Ler tudo como string inicialmente para evitar erros de tipo\n",
    "}"
   ]
  },
  {
   "cell_type": "code",
   "execution_count": null,
   "id": "161b29fa-175d-4c60-a9c1-81f2827e634f",
   "metadata": {},
   "outputs": [],
   "source": [
    "# --- Processamento da Tabela de EMPRESAS ---\n",
    "print(f\"Lendo arquivo de Empresas: {EMPRESA_FILE_BRONZE}\")\n",
    "try:\n",
    "    df_empresas_raw = pd.read_csv(EMPRESA_FILE_BRONZE, **READ_PARAMS)\n",
    "\n",
    "    # Mapeamento das colunas brutas para os nomes e tipos desejados na camada Silver\n",
    "    # Baseado na estrutura comum dos arquivos da Receita Federal e no schema do desafio.\n",
    "    # Os índices são 0-based.\n",
    "    # CNPJ BÁSICO (0), CNPJ ORDEM (1), CNPJ DV (2)\n",
    "    # RAZÃO SOCIAL (3)\n",
    "    # CÓDIGO NATUREZA JURÍDICA (5)\n",
    "    # CÓDIGO PORTE EMPRESA (8)\n",
    "    # CÓDIGO QUALIFICAÇÃO DO RESPONSÁVEL (9)\n",
    "    # CAPITAL SOCIAL (10)\n",
    "\n",
    "    # Seleciona e renomeia as colunas\n",
    "    df_empresas_silver = df_empresas_raw[[0, 1, 2, 3, 5, 8, 9, 10]].copy()\n",
    "    df_empresas_silver.columns = [\n",
    "        'cnpj_basico',\n",
    "        'cnpj_ordem',\n",
    "        'cnpj_dv',\n",
    "        'razao_social',\n",
    "        'natureza_juridica',\n",
    "        'cod_porte',\n",
    "        'qualificacao_responsavel',\n",
    "        'capital_social'\n",
    "    ]\n",
    "\n",
    "    # Concatena as partes do CNPJ para formar o CNPJ completo (14 dígitos)\n",
    "    df_empresas_silver['cnpj'] = (\n",
    "        df_empresas_silver['cnpj_basico'] +\n",
    "        df_empresas_silver['cnpj_ordem'] +\n",
    "        df_empresas_silver['cnpj_dv']\n",
    "    )\n",
    "\n",
    "    # Reordena e seleciona as colunas finais para o schema da camada Silver\n",
    "    # Mantendo 'cnpj_basico' para futuras junções com a tabela de sócios\n",
    "    df_empresas_silver = df_empresas_silver[[\n",
    "        'cnpj',\n",
    "        'cnpj_basico', # Mantido para junção com socios\n",
    "        'razao_social',\n",
    "        'natureza_juridica',\n",
    "        'qualificacao_responsavel',\n",
    "        'capital_social',\n",
    "        'cod_porte'\n",
    "    ]]\n",
    "\n",
    "    # Conversão de tipos de dados\n",
    "    # Usar pd.to_numeric com errors='coerce' para tratar valores não numéricos como NaN\n",
    "    # e depois preencher NaN com um valor padrão ou remover se necessário\n",
    "    df_empresas_silver['natureza_juridica'] = pd.to_numeric(df_empresas_silver['natureza_juridica'], errors='coerce').fillna(-1).astype(int)\n",
    "    df_empresas_silver['qualificacao_responsavel'] = pd.to_numeric(df_empresas_silver['qualificacao_responsavel'], errors='coerce').fillna(-1).astype(int)\n",
    "    df_empresas_silver['capital_social'] = pd.to_numeric(df_empresas_silver['capital_social'].str.replace(',', '.'), errors='coerce').fillna(0.0).astype(float)\n",
    "    \n",
    "    # Limpeza de strings: remover espaços em branco extras\n",
    "    df_empresas_silver['razao_social'] = df_empresas_silver['razao_social'].str.strip()\n",
    "    df_empresas_silver['cod_porte'] = df_empresas_silver['cod_porte'].str.strip()\n",
    "\n",
    "    print(f\"Tabela de Empresas processada. Total de registros: {len(df_empresas_silver)}\")\n",
    "    print(\"Primeiras 5 linhas da tabela Empresas (Silver):\")\n",
    "    print(df_empresas_silver.head())\n",
    "    print(\"\\nTipos de dados da tabela Empresas (Silver):\")\n",
    "    print(df_empresas_silver.dtypes)\n",
    "\n",
    "    # Salva o DataFrame processado na camada Silver\n",
    "    df_empresas_silver.to_parquet(EMPRESA_FILE_SILVER, index=False)\n",
    "    print(f\"Tabela de Empresas salva em: {EMPRESA_FILE_SILVER}\")\n",
    "\n",
    "except FileNotFoundError:\n",
    "    print(f\"ERRO: Arquivo de Empresas não encontrado em {EMPRESA_FILE_BRONZE}. Verifique o caminho.\")\n",
    "except Exception as e:\n",
    "    print(f\"ERRO ao processar arquivo de Empresas: {e}\")\n",
    "\n",
    "print(\"-\" * 50)"
   ]
  }
 ],
 "metadata": {
  "kernelspec": {
   "display_name": "Python 3 (ipykernel)",
   "language": "python",
   "name": "python3"
  },
  "language_info": {
   "codemirror_mode": {
    "name": "ipython",
    "version": 3
   },
   "file_extension": ".py",
   "mimetype": "text/x-python",
   "name": "python",
   "nbconvert_exporter": "python",
   "pygments_lexer": "ipython3",
   "version": "3.12.11"
  }
 },
 "nbformat": 4,
 "nbformat_minor": 5
}
