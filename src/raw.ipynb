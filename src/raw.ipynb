{
 "cells": [
  {
   "cell_type": "markdown",
   "id": "6f1a16bd-1282-4d2a-9a63-7bae225f47bf",
   "metadata": {},
   "source": [
    "# Objetivo:\n",
    "\n",
    "- Recuperar os dados de Empresas e Sócios do site da Receita Federal de forma dinâmica e com tratativa de erro;\n",
    "- Selecionar Dinâmicamente o diretório mais recente;\n",
    "- Escolher qual o arquivo que quer baixar ou baixar todos os arquivos;\n",
    "- Salvar o .zip na data/stage;\n",
    "- Extrair o arquivo de dentro do .zip na data/stage."
   ]
  },
  {
   "cell_type": "markdown",
   "id": "89b84b4a-2767-473b-b70a-7c720c5aef79",
   "metadata": {},
   "source": [
    "### Import das Bibliotecas"
   ]
  },
  {
   "cell_type": "code",
   "execution_count": null,
   "id": "9d44aad1-5a3f-438f-99ec-9f108dcdc71b",
   "metadata": {},
   "outputs": [],
   "source": [
    "import requests\n",
    "import os\n",
    "import zipfile\n",
    "from bs4 import BeautifulSoup\n",
    "from requests.exceptions import RequestException"
   ]
  },
  {
   "cell_type": "markdown",
   "id": "af2f3166-b160-4c3f-a07e-247f6a1c9872",
   "metadata": {},
   "source": [
    "### Definição do Diretório Bronze"
   ]
  },
  {
   "cell_type": "code",
   "execution_count": null,
   "id": "7fd2e175-d6af-45a3-9c62-9607d6902564",
   "metadata": {},
   "outputs": [],
   "source": [
    "# Diretório local onde salvar os arquivos\n",
    "RAW_DIR = \"../data/raw\"\n",
    "os.makedirs(RAW_DIR, exist_ok=True)"
   ]
  },
  {
   "cell_type": "markdown",
   "id": "583e5222-5c80-47b6-8ffe-960d6860d8de",
   "metadata": {},
   "source": [
    "### Site da Receita Federal"
   ]
  },
  {
   "cell_type": "markdown",
   "id": "1638b1a6-3a0a-4cac-8e37-4c03f31f47ca",
   "metadata": {},
   "source": [
    "#### Acessar o Site"
   ]
  },
  {
   "cell_type": "code",
   "execution_count": null,
   "id": "4d633dc4-7b59-4b66-b6cf-b6bd7c1969ac",
   "metadata": {},
   "outputs": [],
   "source": [
    "# URL base\n",
    "BASE_URL = \"https://arquivos.receitafederal.gov.br/dados/cnpj/dados_abertos_cnpj/\"\n",
    "\n",
    "def acessar_url(url, max_tentativas=3):\n",
    "    for tentativa in range(1, max_tentativas + 1):\n",
    "        try:\n",
    "            print(f\"Tentativa {tentativa} de {max_tentativas}...\")\n",
    "            resposta = requests.get(url, timeout=10)\n",
    "            resposta.raise_for_status()\n",
    "            return resposta.text  # retorna apenas o conteúdo\n",
    "\n",
    "        except RequestException as e:\n",
    "            print(f\"Erro ao acessar a URL: {e}\")\n",
    "            if tentativa == max_tentativas:\n",
    "                raise RuntimeError(f\"Falha após {max_tentativas} tentativas ao acessar {url}\")"
   ]
  },
  {
   "cell_type": "code",
   "execution_count": null,
   "id": "24835260-e8b2-475c-91aa-b46dad42aaad",
   "metadata": {},
   "outputs": [],
   "source": [
    "try:\n",
    "    html = acessar_url(BASE_URL)\n",
    "    soup = BeautifulSoup(html, \"html.parser\")\n",
    "    print(\"Requisição bem-sucedida!\")\n",
    "except RuntimeError as erro:\n",
    "    print(erro)"
   ]
  },
  {
   "cell_type": "markdown",
   "id": "b2d4f2d1-0cfd-4bbc-a88f-56701d98741b",
   "metadata": {},
   "source": [
    "#### Navegar no Site"
   ]
  },
  {
   "cell_type": "code",
   "execution_count": null,
   "id": "00635067-2115-462d-a153-cc025d12eafb",
   "metadata": {},
   "outputs": [],
   "source": [
    "# Pegar todos os diretórios\n",
    "dirs = [a[\"href\"] for a in soup.find_all(\"a\", href=True) if a[\"href\"].endswith(\"/\") and a[\"href\"][0].isdigit()]"
   ]
  },
  {
   "cell_type": "code",
   "execution_count": null,
   "id": "761e6b36-efc4-4d91-b2d3-ab847067183d",
   "metadata": {},
   "outputs": [],
   "source": [
    "# Ordenar diretórios por nome (o mais recente é o último)\n",
    "dirs.sort()\n",
    "latest_dir = dirs[-1]\n",
    "print(f\"Diretório mais recente encontrado: {latest_dir}\")"
   ]
  },
  {
   "cell_type": "code",
   "execution_count": null,
   "id": "59270c82-88a6-4df4-bd45-71d3cecf8c06",
   "metadata": {},
   "outputs": [],
   "source": [
    "# Acessar a pasta mais recente\n",
    "resp_latest = requests.get(BASE_URL + latest_dir)\n",
    "resp_latest.raise_for_status()\n",
    "soup_latest = BeautifulSoup(resp_latest.text, \"html.parser\")"
   ]
  },
  {
   "cell_type": "code",
   "execution_count": null,
   "id": "d16e3c2f-ac7b-4533-8817-bb0de84d630f",
   "metadata": {},
   "outputs": [],
   "source": [
    "# Procurar arquivos Empresas.zip e Socios.zip\n",
    "links = [a[\"href\"] for a in soup_latest.find_all(\"a\", href=True)]\n",
    "\n",
    "# Recupera todos os arquivos de Empresas e Socios\n",
    "empresas_files = [l for l in links if \"Empresas\" in l and l.endswith(\".zip\")]\n",
    "socios_files = [l for l in links if \"Socios\" in l and l.endswith(\".zip\")]\n",
    "\n",
    "# Pegar o primeiro arquivo (ou o último, dependendo da sua preferência)\n",
    "empresas_file = empresas_files[0] # ou empresas_files[-1] para o último\n",
    "socios_file = socios_files[0]  # ou socios_files[-1]\n",
    "\n",
    "print(f\"Arquivos Empresas encontrados: {empresas_files}\")\n",
    "print(f\"Arquivo Empresas selecionado: {empresas_file}\")\n",
    "print(f\"Arquivos Socios encontrados: {socios_files}\")\n",
    "print(f\"Arquivo Socios selecionado: {socios_file}\")"
   ]
  },
  {
   "cell_type": "markdown",
   "id": "061b85a7-8d9a-40e4-ab0d-be7b138ca920",
   "metadata": {},
   "source": [
    "#### Baixar e Extrair Arquivos"
   ]
  },
  {
   "cell_type": "code",
   "execution_count": null,
   "id": "dbaec9ad-3845-4691-8b3d-8f85255ae6ea",
   "metadata": {},
   "outputs": [],
   "source": [
    "# Função para baixar arquivo\n",
    "def download_file(file_url, folder):\n",
    "    filename = file_url.split(\"/\")[-1]\n",
    "    filepath = os.path.join(folder, filename)\n",
    "    print(f\"Baixando {filename}...\")\n",
    "    r = requests.get(BASE_URL + latest_dir + file_url, stream=True)\n",
    "    r.raise_for_status()\n",
    "    with open(filepath, \"wb\") as f:\n",
    "        for chunk in r.iter_content(chunk_size=8192):\n",
    "            f.write(chunk)\n",
    "    print(f\"Salvo em {filepath}\")\n",
    "    return filepath"
   ]
  },
  {
   "cell_type": "code",
   "execution_count": null,
   "id": "86ea8924-8570-4107-a2f0-2c201ad74f42",
   "metadata": {},
   "outputs": [],
   "source": [
    "# Função para extrair .zip\n",
    "def extract_zip(zip_path, extract_to):\n",
    "    print(f\"Extraindo {zip_path}...\")\n",
    "    with zipfile.ZipFile(zip_path, \"r\") as zip_ref:\n",
    "        zip_ref.extractall(extract_to)\n",
    "    print(f\"Arquivos extraídos em {extract_to}\")"
   ]
  },
  {
   "cell_type": "code",
   "execution_count": null,
   "id": "49e9ca63-143d-45b6-abe6-5576c2dc961d",
   "metadata": {},
   "outputs": [],
   "source": [
    "# Baixar e descompactar os arquivos\n",
    "for file in [empresas_file, socios_file]: # Caso queira baixar todos os arquivos trocar por empresas_files e socios_files\n",
    "    zip_path = download_file(file, RAW_DIR)\n",
    "    extract_zip(zip_path, RAW_DIR)"
   ]
  }
 ],
 "metadata": {
  "kernelspec": {
   "display_name": "Python 3 (ipykernel)",
   "language": "python",
   "name": "python3"
  },
  "language_info": {
   "codemirror_mode": {
    "name": "ipython",
    "version": 3
   },
   "file_extension": ".py",
   "mimetype": "text/x-python",
   "name": "python",
   "nbconvert_exporter": "python",
   "pygments_lexer": "ipython3",
   "version": "3.12.11"
  }
 },
 "nbformat": 4,
 "nbformat_minor": 5
}
